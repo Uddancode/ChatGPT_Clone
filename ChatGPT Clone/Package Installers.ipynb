{
 "cells": [
  {
   "cell_type": "code",
   "execution_count": 1,
   "id": "d328a25c-aa19-49e8-91f8-c7c4b593b53b",
   "metadata": {},
   "outputs": [
    {
     "name": "stdout",
     "output_type": "stream",
     "text": [
      "Requirement already satisfied: flask in c:\\users\\souranil nandi\\appdata\\local\\programs\\python\\python311\\lib\\site-packages (2.3.2)Note: you may need to restart the kernel to use updated packages.\n",
      "\n",
      "Requirement already satisfied: Werkzeug>=2.3.3 in c:\\users\\souranil nandi\\appdata\\local\\programs\\python\\python311\\lib\\site-packages (from flask) (2.3.7)\n",
      "Requirement already satisfied: Jinja2>=3.1.2 in c:\\users\\souranil nandi\\appdata\\local\\programs\\python\\python311\\lib\\site-packages (from flask) (3.1.2)\n",
      "Requirement already satisfied: itsdangerous>=2.1.2 in c:\\users\\souranil nandi\\appdata\\local\\programs\\python\\python311\\lib\\site-packages (from flask) (2.1.2)\n",
      "Requirement already satisfied: click>=8.1.3 in c:\\users\\souranil nandi\\appdata\\local\\programs\\python\\python311\\lib\\site-packages (from flask) (8.1.7)\n",
      "Requirement already satisfied: blinker>=1.6.2 in c:\\users\\souranil nandi\\appdata\\local\\programs\\python\\python311\\lib\\site-packages (from flask) (1.6.2)\n",
      "Requirement already satisfied: colorama in c:\\users\\souranil nandi\\appdata\\local\\programs\\python\\python311\\lib\\site-packages (from click>=8.1.3->flask) (0.4.6)\n",
      "Requirement already satisfied: MarkupSafe>=2.0 in c:\\users\\souranil nandi\\appdata\\local\\programs\\python\\python311\\lib\\site-packages (from Jinja2>=3.1.2->flask) (2.1.3)\n"
     ]
    }
   ],
   "source": [
    "pip install flask"
   ]
  },
  {
   "cell_type": "code",
   "execution_count": 2,
   "id": "d9489782-bc29-4556-b1ec-443525fc0931",
   "metadata": {},
   "outputs": [
    {
     "name": "stdout",
     "output_type": "stream",
     "text": [
      "Collecting flask_pymongo\n",
      "  Downloading Flask_PyMongo-2.3.0-py2.py3-none-any.whl (12 kB)\n",
      "Requirement already satisfied: Flask>=0.11 in c:\\users\\souranil nandi\\appdata\\local\\programs\\python\\python311\\lib\\site-packages (from flask_pymongo) (2.3.2)\n",
      "Collecting PyMongo>=3.3 (from flask_pymongo)\n",
      "  Obtaining dependency information for PyMongo>=3.3 from https://files.pythonhosted.org/packages/ca/8a/fd22c1b57f9effe50a5db1373b135e6ce85593e79e6c0af6e7bfad5d8cba/pymongo-4.4.1-cp311-cp311-win_amd64.whl.metadata\n",
      "  Downloading pymongo-4.4.1-cp311-cp311-win_amd64.whl.metadata (9.2 kB)\n",
      "Requirement already satisfied: Werkzeug>=2.3.3 in c:\\users\\souranil nandi\\appdata\\local\\programs\\python\\python311\\lib\\site-packages (from Flask>=0.11->flask_pymongo) (2.3.7)\n",
      "Requirement already satisfied: Jinja2>=3.1.2 in c:\\users\\souranil nandi\\appdata\\local\\programs\\python\\python311\\lib\\site-packages (from Flask>=0.11->flask_pymongo) (3.1.2)\n",
      "Requirement already satisfied: itsdangerous>=2.1.2 in c:\\users\\souranil nandi\\appdata\\local\\programs\\python\\python311\\lib\\site-packages (from Flask>=0.11->flask_pymongo) (2.1.2)\n",
      "Requirement already satisfied: click>=8.1.3 in c:\\users\\souranil nandi\\appdata\\local\\programs\\python\\python311\\lib\\site-packages (from Flask>=0.11->flask_pymongo) (8.1.7)\n",
      "Requirement already satisfied: blinker>=1.6.2 in c:\\users\\souranil nandi\\appdata\\local\\programs\\python\\python311\\lib\\site-packages (from Flask>=0.11->flask_pymongo) (1.6.2)\n",
      "Collecting dnspython<3.0.0,>=1.16.0 (from PyMongo>=3.3->flask_pymongo)\n",
      "  Obtaining dependency information for dnspython<3.0.0,>=1.16.0 from https://files.pythonhosted.org/packages/f6/b4/0a9bee52c50f226a3cbfb54263d02bb421c7f2adc136520729c2c689c1e5/dnspython-2.4.2-py3-none-any.whl.metadata\n",
      "  Downloading dnspython-2.4.2-py3-none-any.whl.metadata (4.9 kB)\n",
      "Requirement already satisfied: colorama in c:\\users\\souranil nandi\\appdata\\local\\programs\\python\\python311\\lib\\site-packages (from click>=8.1.3->Flask>=0.11->flask_pymongo) (0.4.6)\n",
      "Requirement already satisfied: MarkupSafe>=2.0 in c:\\users\\souranil nandi\\appdata\\local\\programs\\python\\python311\\lib\\site-packages (from Jinja2>=3.1.2->Flask>=0.11->flask_pymongo) (2.1.3)\n",
      "Downloading pymongo-4.4.1-cp311-cp311-win_amd64.whl (408 kB)\n",
      "   ---------------------------------------- 0.0/408.2 kB ? eta -:--:--\n",
      "   --- ------------------------------------ 30.7/408.2 kB ? eta -:--:--\n",
      "   --------------- ------------------------ 153.6/408.2 kB 1.8 MB/s eta 0:00:01\n",
      "   -------------------------------------- - 389.1/408.2 kB 3.0 MB/s eta 0:00:01\n",
      "   ---------------------------------------- 408.2/408.2 kB 3.2 MB/s eta 0:00:00\n",
      "Downloading dnspython-2.4.2-py3-none-any.whl (300 kB)\n",
      "   ---------------------------------------- 0.0/300.4 kB ? eta -:--:--\n",
      "   ---------------------------------------  297.0/300.4 kB 6.1 MB/s eta 0:00:01\n",
      "   ---------------------------------------- 300.4/300.4 kB 6.2 MB/s eta 0:00:00\n",
      "Installing collected packages: dnspython, PyMongo, flask_pymongo\n",
      "Successfully installed PyMongo-4.4.1 dnspython-2.4.2 flask_pymongo-2.3.0\n",
      "Note: you may need to restart the kernel to use updated packages.\n"
     ]
    }
   ],
   "source": [
    "pip install flask_pymongo"
   ]
  },
  {
   "cell_type": "code",
   "execution_count": null,
   "id": "7542b09a-c108-483a-954a-11df71b80fa3",
   "metadata": {},
   "outputs": [],
   "source": []
  }
 ],
 "metadata": {
  "kernelspec": {
   "display_name": "Python 3 (ipykernel)",
   "language": "python",
   "name": "python3"
  },
  "language_info": {
   "codemirror_mode": {
    "name": "ipython",
    "version": 3
   },
   "file_extension": ".py",
   "mimetype": "text/x-python",
   "name": "python",
   "nbconvert_exporter": "python",
   "pygments_lexer": "ipython3",
   "version": "3.11.4"
  }
 },
 "nbformat": 4,
 "nbformat_minor": 5
}
